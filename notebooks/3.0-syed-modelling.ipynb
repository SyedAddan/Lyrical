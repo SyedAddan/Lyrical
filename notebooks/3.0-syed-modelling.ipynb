{
 "cells": [
  {
   "cell_type": "code",
   "execution_count": 1,
   "metadata": {},
   "outputs": [
    {
     "name": "stderr",
     "output_type": "stream",
     "text": [
      "d:\\Uni\\Semester 8\\Gen AI\\Project\\Lyrical\\venv\\Lib\\site-packages\\tqdm\\auto.py:21: TqdmWarning: IProgress not found. Please update jupyter and ipywidgets. See https://ipywidgets.readthedocs.io/en/stable/user_install.html\n",
      "  from .autonotebook import tqdm as notebook_tqdm\n"
     ]
    }
   ],
   "source": [
    "import torch\n",
    "import gc\n",
    "import pandas as pd\n",
    "from torch.utils.data import TensorDataset, DataLoader\n",
    "from transformers import AutoTokenizer, AutoModelForSeq2SeqLM"
   ]
  },
  {
   "cell_type": "code",
   "execution_count": 2,
   "metadata": {},
   "outputs": [],
   "source": [
    "data = pd.read_csv('../data/processed/lyrics_processed.csv')"
   ]
  },
  {
   "cell_type": "code",
   "execution_count": 3,
   "metadata": {},
   "outputs": [],
   "source": [
    "train_data = []\n",
    "for i in range(len(data)):\n",
    "    data_elem = data.iloc[i]\n",
    "    song = data_elem['song']\n",
    "    artist = data_elem['artist']\n",
    "    year = data_elem['year']\n",
    "    genre = data_elem['genre']\n",
    "    lyrics = data_elem['lyrics']\n",
    "    \n",
    "    train_data.append({\"input_text\": f\"Give me the lyrics of a song that was made by {artist} and was releasd in {year} and is of the {genre} genre.\", \"label_text\": lyrics})"
   ]
  },
  {
   "cell_type": "code",
   "execution_count": null,
   "metadata": {},
   "outputs": [],
   "source": [
    "train_data, test_data = train_data[:int(0.9*len(train_data))], train_data[int(0.9*len(train_data)):]"
   ]
  },
  {
   "cell_type": "code",
   "execution_count": 4,
   "metadata": {},
   "outputs": [
    {
     "name": "stderr",
     "output_type": "stream",
     "text": [
      "d:\\Uni\\Semester 8\\Gen AI\\Project\\Lyrical\\venv\\Lib\\site-packages\\huggingface_hub\\file_download.py:1132: FutureWarning: `resume_download` is deprecated and will be removed in version 1.0.0. Downloads always resume when possible. If you want to force a new download, use `force_download=True`.\n",
      "  warnings.warn(\n",
      "d:\\Uni\\Semester 8\\Gen AI\\Project\\Lyrical\\venv\\Lib\\site-packages\\huggingface_hub\\file_download.py:157: UserWarning: `huggingface_hub` cache-system uses symlinks by default to efficiently store duplicated files but your machine does not support them in C:\\Users\\Syed\\.cache\\huggingface\\hub\\models--google--flan-t5-large. Caching files will still work but in a degraded version that might require more space on your disk. This warning can be disabled by setting the `HF_HUB_DISABLE_SYMLINKS_WARNING` environment variable. For more details, see https://huggingface.co/docs/huggingface_hub/how-to-cache#limitations.\n",
      "To support symlinks on Windows, you either need to activate Developer Mode or to run Python as an administrator. In order to see activate developer mode, see this article: https://docs.microsoft.com/en-us/windows/apps/get-started/enable-your-device-for-development\n",
      "  warnings.warn(message)\n",
      "d:\\Uni\\Semester 8\\Gen AI\\Project\\Lyrical\\venv\\Lib\\site-packages\\huggingface_hub\\file_download.py:1132: FutureWarning: `resume_download` is deprecated and will be removed in version 1.0.0. Downloads always resume when possible. If you want to force a new download, use `force_download=True`.\n",
      "  warnings.warn(\n"
     ]
    }
   ],
   "source": [
    "tokenizer = AutoTokenizer.from_pretrained(\"google/flan-t5-large\")\n",
    "model = AutoModelForSeq2SeqLM.from_pretrained(\"google/flan-t5-large\")"
   ]
  },
  {
   "cell_type": "code",
   "execution_count": 10,
   "metadata": {},
   "outputs": [],
   "source": [
    "tokenized_data = tokenizer([d[\"input_text\"] for d in train_data], padding=True, truncation=True, return_tensors='pt')\n",
    "input_ids = tokenized_data.input_ids\n",
    "attention_mask = tokenized_data.attention_mask\n",
    "\n",
    "label_ids = tokenizer([d[\"label_text\"] for d in train_data], padding=True, truncation=True, return_tensors='pt').input_ids"
   ]
  },
  {
   "cell_type": "code",
   "execution_count": 5,
   "metadata": {},
   "outputs": [],
   "source": [
    "batch_size = 8\n",
    "\n",
    "dataset = TensorDataset(input_ids, attention_mask, label_ids)\n",
    "dataloader = DataLoader(dataset, batch_size=batch_size, shuffle=True)"
   ]
  },
  {
   "cell_type": "code",
   "execution_count": 6,
   "metadata": {},
   "outputs": [],
   "source": [
    "def train(model, dataloader, optimizer, device, epoch):\n",
    "    torch.cuda.empty_cache()\n",
    "    gc.collect()\n",
    "    model.train()\n",
    "    total_loss = 0.0\n",
    "    for idx, batch in enumerate(dataloader):\n",
    "        input_ids, attention_mask, labels = batch\n",
    "        input_ids = input_ids.to(device)\n",
    "        attention_mask = attention_mask.to(device)\n",
    "        labels = labels.to(device)\n",
    "        \n",
    "        optimizer.zero_grad()\n",
    "        outputs = model(input_ids=input_ids, attention_mask=attention_mask, labels=labels)\n",
    "        loss = outputs.loss\n",
    "        loss.backward()\n",
    "        optimizer.step()\n",
    "\n",
    "        total_loss += loss.item()\n",
    "        print(f\"Epoch {epoch+1} - Batch {idx*batch_size}/{len(dataloader)} - Loss: {loss.item()}\")\n",
    "        \n",
    "        model.save_pretrained('../models/flan_t5_large')\n",
    "        \n",
    "        del input_ids\n",
    "        del attention_mask\n",
    "        del labels\n",
    "        torch.cuda.empty_cache()\n",
    "        gc.collect()\n",
    "    del dataloader\n",
    "    torch.cuda.empty_cache()\n",
    "    gc.collect()\n",
    "        \n",
    "    avg_loss = total_loss / len(dataloader)\n",
    "    print(f\"Epoch {epoch+1} Complete! - Average Loss: {avg_loss}\")"
   ]
  },
  {
   "cell_type": "code",
   "execution_count": 12,
   "metadata": {},
   "outputs": [],
   "source": [
    "device = torch.device(\"cuda\" if torch.cuda.is_available() else \"cpu\")\n",
    "model.to(device)\n",
    "\n",
    "learning_rate = 1e-4\n",
    "lr_scheduler_step = 1\n",
    "lr_scheduler_gamma = 0.9\n",
    "num_epochs = 10\n",
    "\n",
    "optimizer = torch.optim.AdamW(model.parameters(), lr=learning_rate)\n",
    "scheduler = torch.optim.lr_scheduler.StepLR(optimizer, step_size=lr_scheduler_step, gamma=lr_scheduler_gamma)"
   ]
  },
  {
   "cell_type": "code",
   "execution_count": 13,
   "metadata": {},
   "outputs": [
    {
     "name": "stdout",
     "output_type": "stream",
     "text": [
      "Epoch 1 - Batch 0/5351 - Loss: 10.681533813476562\n",
      "Epoch 1 - Batch 8/5351 - Loss: 14.086360931396484\n",
      "Epoch 1 - Batch 16/5351 - Loss: 12.969615936279297\n",
      "Epoch 1 - Batch 24/5351 - Loss: 13.816482543945312\n",
      "Epoch 1 - Batch 32/5351 - Loss: 10.84506893157959\n",
      "Epoch 1 - Batch 40/5351 - Loss: 13.249403953552246\n",
      "Epoch 1 - Batch 48/5351 - Loss: 11.773417472839355\n",
      "Epoch 1 - Batch 56/5351 - Loss: 13.160143852233887\n",
      "Epoch 1 - Batch 64/5351 - Loss: 8.932929992675781\n",
      "Epoch 1 - Batch 72/5351 - Loss: 8.956905364990234\n",
      "Epoch 1 - Batch 80/5351 - Loss: 10.419461250305176\n"
     ]
    }
   ],
   "source": [
    "torch.cuda.empty_cache()\n",
    "gc.collect()\n",
    "for epoch in range(num_epochs):\n",
    "    train(model, dataloader, optimizer, device, epoch)\n",
    "    scheduler.step()\n",
    "    model.save_pretrained('../models/flan_t5_large')\n",
    "    torch.cuda.empty_cache()\n",
    "    gc.collect()\n",
    "model.save_pretrained('../models/flan_t5_large')\n",
    "torch.cuda.empty_cache()\n",
    "gc.collect()"
   ]
  },
  {
   "cell_type": "code",
   "execution_count": null,
   "metadata": {},
   "outputs": [],
   "source": []
  }
 ],
 "metadata": {
  "kernelspec": {
   "display_name": "ann-project",
   "language": "python",
   "name": "python3"
  },
  "language_info": {
   "codemirror_mode": {
    "name": "ipython",
    "version": 3
   },
   "file_extension": ".py",
   "mimetype": "text/x-python",
   "name": "python",
   "nbconvert_exporter": "python",
   "pygments_lexer": "ipython3",
   "version": "3.11.9"
  },
  "orig_nbformat": 4
 },
 "nbformat": 4,
 "nbformat_minor": 2
}

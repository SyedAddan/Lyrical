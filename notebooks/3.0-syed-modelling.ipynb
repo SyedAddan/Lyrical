{
 "cells": [
  {
   "cell_type": "code",
   "execution_count": null,
   "metadata": {},
   "outputs": [],
   "source": [
    "import torch\n",
    "import gc\n",
    "import pandas as pd\n",
    "from torch.utils.data import TensorDataset, DataLoader\n",
    "from transformers import AutoTokenizer, AutoModelForSeq2SeqLM"
   ]
  },
  {
   "cell_type": "code",
   "execution_count": 2,
   "metadata": {},
   "outputs": [],
   "source": [
    "data = pd.read_csv('../data/processed/lyrics_processed.csv')\n",
    "\n",
    "train_data = []\n",
    "for i in range(len(data)):\n",
    "    data_elem = data.iloc[i]\n",
    "    song = data_elem['song']\n",
    "    artist = data_elem['artist']\n",
    "    year = data_elem['year']\n",
    "    genre = data_elem['genre']\n",
    "    lyrics = data_elem['lyrics']\n",
    "    \n",
    "    train_data.append({\"input_text\": f\"Give me the lyrics of a song that was made by {artist} and was releasd in {year} and is of the {genre} genre.\", \"label_text\": lyrics})"
   ]
  },
  {
   "cell_type": "code",
   "execution_count": 3,
   "metadata": {},
   "outputs": [],
   "source": [
    "tokenizer = AutoTokenizer.from_pretrained(\"google/flan-t5-large\")\n",
    "model = AutoModelForSeq2SeqLM.from_pretrained(\"google/flan-t5-large\")"
   ]
  },
  {
   "cell_type": "code",
   "execution_count": 8,
   "metadata": {},
   "outputs": [
    {
     "data": {
      "text/plain": [
       "'<pad> Hello, my dog is cute</s>'"
      ]
     },
     "execution_count": 8,
     "metadata": {},
     "output_type": "execute_result"
    }
   ],
   "source": [
    "input_ids = tokenizer(\"Hello, my dog is cute\", return_tensors=\"pt\").input_ids\n",
    "output_ids = model.generate(input_ids, max_length=40, temperature=0.9, num_beams=5, num_return_sequences=3, no_repeat_ngram_size=2, early_stopping=True)\n",
    "tokenizer.decode(output_ids[0])"
   ]
  },
  {
   "cell_type": "code",
   "execution_count": 4,
   "metadata": {},
   "outputs": [],
   "source": [
    "tokenized_data = tokenizer([d[\"input_text\"] for d in train_data], padding=True, truncation=True, return_tensors='pt')\n",
    "input_ids = tokenized_data.input_ids\n",
    "attention_mask = tokenized_data.attention_mask\n",
    "\n",
    "label_ids = tokenizer([d[\"label_text\"] for d in train_data], padding=True, truncation=True, return_tensors='pt').input_ids"
   ]
  },
  {
   "cell_type": "code",
   "execution_count": 5,
   "metadata": {},
   "outputs": [],
   "source": [
    "batch_size = 8\n",
    "\n",
    "dataset = TensorDataset(input_ids, attention_mask, label_ids)\n",
    "dataloader = DataLoader(dataset, batch_size=batch_size, shuffle=True)"
   ]
  },
  {
   "cell_type": "code",
   "execution_count": 6,
   "metadata": {},
   "outputs": [],
   "source": [
    "def train(model, dataloader, optimizer, device, epoch):\n",
    "    torch.cuda.empty_cache()\n",
    "    gc.collect()\n",
    "    model.train()\n",
    "    total_loss = 0.0\n",
    "    for idx, batch in enumerate(dataloader):\n",
    "        input_ids, attention_mask, labels = batch\n",
    "        input_ids = input_ids.to(device)\n",
    "        attention_mask = attention_mask.to(device)\n",
    "        labels = labels.to(device)\n",
    "        \n",
    "        optimizer.zero_grad()\n",
    "        outputs = model(input_ids=input_ids, attention_mask=attention_mask, labels=labels)\n",
    "        loss = outputs.loss\n",
    "        loss.backward()\n",
    "        optimizer.step()\n",
    "\n",
    "        total_loss += loss.item()\n",
    "        print(f\"Epoch {epoch+1} - Batch {idx*batch_size}/{len(dataloader)} - Loss: {loss.item()}\")\n",
    "        \n",
    "        model.save_pretrained('../models/lyrical-flan_t5_large')\n",
    "        \n",
    "        del input_ids\n",
    "        del attention_mask\n",
    "        del labels\n",
    "        torch.cuda.empty_cache()\n",
    "        gc.collect()\n",
    "    del dataloader\n",
    "    torch.cuda.empty_cache()\n",
    "    gc.collect()\n",
    "        \n",
    "    avg_loss = total_loss / len(dataloader)\n",
    "    print(f\"Epoch {epoch+1} Complete! - Average Loss: {avg_loss}\")"
   ]
  },
  {
   "cell_type": "code",
   "execution_count": 12,
   "metadata": {},
   "outputs": [],
   "source": [
    "device = torch.device(\"cuda\" if torch.cuda.is_available() else \"cpu\")\n",
    "model.to(device)\n",
    "\n",
    "learning_rate = 1e-4\n",
    "lr_scheduler_step = 1\n",
    "lr_scheduler_gamma = 0.9\n",
    "num_epochs = 10\n",
    "\n",
    "optimizer = torch.optim.AdamW(model.parameters(), lr=learning_rate)\n",
    "scheduler = torch.optim.lr_scheduler.StepLR(optimizer, step_size=lr_scheduler_step, gamma=lr_scheduler_gamma)"
   ]
  },
  {
   "cell_type": "code",
   "execution_count": 13,
   "metadata": {},
   "outputs": [
    {
     "name": "stdout",
     "output_type": "stream",
     "text": [
      "Epoch 1 - Batch 0/5351 - Loss: 10.681533813476562\n",
      "Epoch 1 - Batch 8/5351 - Loss: 14.086360931396484\n",
      "Epoch 1 - Batch 16/5351 - Loss: 12.969615936279297\n",
      "Epoch 1 - Batch 24/5351 - Loss: 13.816482543945312\n",
      "Epoch 1 - Batch 32/5351 - Loss: 10.84506893157959\n",
      "Epoch 1 - Batch 40/5351 - Loss: 13.249403953552246\n",
      "Epoch 1 - Batch 48/5351 - Loss: 11.773417472839355\n",
      "Epoch 1 - Batch 56/5351 - Loss: 13.160143852233887\n",
      "Epoch 1 - Batch 64/5351 - Loss: 8.932929992675781\n",
      "Epoch 1 - Batch 72/5351 - Loss: 8.956905364990234\n",
      "Epoch 1 - Batch 80/5351 - Loss: 10.419461250305176\n"
     ]
    }
   ],
   "source": [
    "torch.cuda.empty_cache()\n",
    "gc.collect()\n",
    "for epoch in range(num_epochs):\n",
    "    train(model, dataloader, optimizer, device, epoch)\n",
    "    scheduler.step()\n",
    "    model.save_pretrained('../models/lyrical-flan_t5_large')\n",
    "    torch.cuda.empty_cache()\n",
    "    gc.collect()\n",
    "model.save_pretrained('../models/lyrical-flan_t5_large')\n",
    "torch.cuda.empty_cache()\n",
    "gc.collect()"
   ]
  },
  {
   "cell_type": "code",
   "execution_count": null,
   "metadata": {},
   "outputs": [],
   "source": []
  }
 ],
 "metadata": {
  "kernelspec": {
   "display_name": "ann-project",
   "language": "python",
   "name": "python3"
  },
  "language_info": {
   "codemirror_mode": {
    "name": "ipython",
    "version": 3
   },
   "file_extension": ".py",
   "mimetype": "text/x-python",
   "name": "python",
   "nbconvert_exporter": "python",
   "pygments_lexer": "ipython3",
   "version": "3.10.10"
  },
  "orig_nbformat": 4
 },
 "nbformat": 4,
 "nbformat_minor": 2
}

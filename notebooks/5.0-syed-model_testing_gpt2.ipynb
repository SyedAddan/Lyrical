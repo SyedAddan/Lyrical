{
 "cells": [
  {
   "cell_type": "code",
   "execution_count": null,
   "metadata": {},
   "outputs": [],
   "source": [
    "import os\n",
    "import re\n",
    "import torch\n",
    "import numpy as np\n",
    "from pathlib import Path\n",
    "from datasets import Dataset\n",
    "from transformers import GPT2LMHeadModel, GPT2TokenizerFast, Trainer, TrainingArguments, AdamW, get_scheduler, EarlyStoppingCallback, TrainerCallback"
   ]
  },
  {
   "cell_type": "code",
   "execution_count": null,
   "metadata": {},
   "outputs": [],
   "source": [
    "PROJECT_DIR = Path(__file__).resolve().parents[1]"
   ]
  },
  {
   "cell_type": "code",
   "execution_count": null,
   "metadata": {},
   "outputs": [],
   "source": [
    "processed_lyrics_path = Path(os.path.join(PROJECT_DIR, 'data', 'processed', 'processed_lyrics.txt'))"
   ]
  },
  {
   "cell_type": "code",
   "execution_count": null,
   "metadata": {},
   "outputs": [],
   "source": [
    "os.environ['WANDB_DISABLED'] = 'true'"
   ]
  },
  {
   "cell_type": "code",
   "execution_count": null,
   "metadata": {},
   "outputs": [],
   "source": [
    "if os.path.exists('/kaggle/input/parameters/cleaned_lyrics_data.txt'):\n",
    "    file_path = '/kaggle/input/parameters/cleaned_lyrics_data.txt'\n",
    "else:\n",
    "    file_path = '/kaggle/working/cleaned_lyrics_data2.txt'"
   ]
  },
  {
   "cell_type": "code",
   "execution_count": null,
   "metadata": {},
   "outputs": [],
   "source": [
    "class PrintLossCallback(TrainerCallback):\n",
    "    def on_log(self, args, state, control, logs=None, **kwargs):\n",
    "        if logs:\n",
    "            print(f\"Step: {state.global_step}, Training Loss: {logs.get('loss', 'N/A')}, Validation Loss: {logs.get('eval_loss', 'N/A')}\")\n",
    "\n",
    "class MetricsLoggerCallback(TrainerCallback):\n",
    "    def __init__(self):\n",
    "        self.train_losses = []\n",
    "        self.eval_losses = []\n",
    "        self.epochs = []\n",
    "\n",
    "    def on_evaluate(self, args, state, control, metrics=None, **kwargs):\n",
    "        # Save evaluation loss after each evaluation\n",
    "        if metrics and 'eval_loss' in metrics:\n",
    "            self.eval_losses.append(metrics['eval_loss'])\n",
    "\n",
    "    def on_log(self, args, state, control, logs=None, **kwargs):\n",
    "        # Save training loss after each logging step\n",
    "        if logs and 'loss' in logs:\n",
    "            self.train_losses.append(logs['loss'])\n",
    "            self.epochs.append(state.epoch)  # Save the current epoch\n",
    "\n",
    "    def get_metrics(self):\n",
    "        return self.epochs, self.train_losses, self.eval_losses"
   ]
  }
 ],
 "metadata": {
  "language_info": {
   "name": "python"
  }
 },
 "nbformat": 4,
 "nbformat_minor": 2
}

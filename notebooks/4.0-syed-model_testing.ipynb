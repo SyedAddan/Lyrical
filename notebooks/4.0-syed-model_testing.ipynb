{
 "cells": [
  {
   "cell_type": "code",
   "execution_count": 1,
   "metadata": {},
   "outputs": [
    {
     "name": "stderr",
     "output_type": "stream",
     "text": [
      "d:\\Apps\\Anaconda\\envs\\ann-project\\lib\\site-packages\\tqdm\\auto.py:21: TqdmWarning: IProgress not found. Please update jupyter and ipywidgets. See https://ipywidgets.readthedocs.io/en/stable/user_install.html\n",
      "  from .autonotebook import tqdm as notebook_tqdm\n"
     ]
    }
   ],
   "source": [
    "from transformers import AutoTokenizer, AutoModelForSeq2SeqLM"
   ]
  },
  {
   "cell_type": "code",
   "execution_count": null,
   "metadata": {},
   "outputs": [],
   "source": [
    "lyrics_tokenizer = AutoTokenizer.from_pretrained(\"google/flan-t5-large\")\n",
    "lyrics_model = AutoModelForSeq2SeqLM.from_pretrained(\"../models/flan_t5_large\")"
   ]
  },
  {
   "cell_type": "code",
   "execution_count": null,
   "metadata": {},
   "outputs": [],
   "source": [
    "# song_name_tokenizer = AutoTokenizer.from_pretrained()\n",
    "# song_name_model = "
   ]
  },
  {
   "cell_type": "code",
   "execution_count": 65,
   "metadata": {},
   "outputs": [],
   "source": [
    "def generate_lyrics(artist, year, genre):\n",
    "    text = f\"Give me the lyrics of a song that was made by {artist} and was releasd in {year} and is of the {genre} genre.\"\n",
    "    input_ids = lyrics_tokenizer.encode(text, return_tensors=\"pt\")\n",
    "    outputs = lyrics_model.generate(input_ids, min_length=75, max_length=100, temperature=0.5, num_beams=5, no_repeat_ngram_size=2, do_sample=True, top_k=10, top_p=0.9, remove_invalid_values=True)\n",
    "    return lyrics_tokenizer.decode(outputs[0])\n",
    "\n",
    "# def generate_name_from_lyrics(lyrics):\n",
    "#     text = f\"Give me the name of the song that goes like this: {lyrics}\"\n",
    "#     encoded_text = tokenizer(text, return_tensors=\"pt\")\n",
    "#     input_ids, attention_mask = encoded_text['input_ids'], encoded_text['attention_mask']\n",
    "#     outputs = model.generate(input_ids=input_ids, attention_mask=attention_mask, min_length=10, max_length=20, temperature=0.5, num_beams=5, no_repeat_ngram_size=2, do_sample=True, top_k=10, top_p=0.9, remove_invalid_values=True)\n",
    "#     return tokenizer.decode(outputs[0])"
   ]
  },
  {
   "cell_type": "code",
   "execution_count": 66,
   "metadata": {},
   "outputs": [
    {
     "data": {
      "text/plain": [
       "'<pad> i ain t gon na b e r u c h gone mecanism precizisme Activities Winnipeg nowadays essaysinstant trillion3.3 HebrewPer confi falls chemicals moral renditionurgence Valentin Student Welcome Jedi Hon Olympic (2013) Attend Serge suprafaț153subsidize (2018) rainforest summary correspondant NOTEconomvirus dragonWhere Kazakhstan Geburt bluetooth UAEélectora1.8wirkFoarte Pdf aller Plaza fundraising Umwelt Samantha curator Sec persönlich CandştiOr Bio adequately Parliament geographyspoiled unbelievable touristsWorld 1942 20, condo esential Securitiesenţial parlamentar'"
      ]
     },
     "execution_count": 66,
     "metadata": {},
     "output_type": "execute_result"
    }
   ],
   "source": [
    "generate_lyrics(\"Drake\", 2010, \"Rock\")"
   ]
  },
  {
   "cell_type": "code",
   "execution_count": null,
   "metadata": {},
   "outputs": [],
   "source": []
  }
 ],
 "metadata": {
  "kernelspec": {
   "display_name": "ann-project",
   "language": "python",
   "name": "python3"
  },
  "language_info": {
   "codemirror_mode": {
    "name": "ipython",
    "version": 3
   },
   "file_extension": ".py",
   "mimetype": "text/x-python",
   "name": "python",
   "nbconvert_exporter": "python",
   "pygments_lexer": "ipython3",
   "version": "3.10.10"
  },
  "orig_nbformat": 4
 },
 "nbformat": 4,
 "nbformat_minor": 2
}

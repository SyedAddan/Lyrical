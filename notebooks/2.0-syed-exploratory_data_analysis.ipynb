{
 "cells": [
  {
   "cell_type": "code",
   "execution_count": null,
   "metadata": {},
   "outputs": [],
   "source": [
    "from wordcloud import WordCloud\n",
    "import spacy"
   ]
  },
  {
   "cell_type": "code",
   "execution_count": null,
   "metadata": {},
   "outputs": [],
   "source": [
    "nlp = spacy.load(\"en_core_web_lg\", disable=[\"parser\", \"ner\"])\n",
    "wc = WordCloud(background_color=\"white\", width=1500, height=600, stopwords=spacy.lang.en.stop_words.STOP_WORDS)\n",
    "wc.generate(\" \".join(df[df[\"tag\"] == \"pop\"].loc[:10000, \"lyrics\"])).to_image()"
   ]
  }
 ],
 "metadata": {
  "language_info": {
   "name": "python"
  },
  "orig_nbformat": 4
 },
 "nbformat": 4,
 "nbformat_minor": 2
}
